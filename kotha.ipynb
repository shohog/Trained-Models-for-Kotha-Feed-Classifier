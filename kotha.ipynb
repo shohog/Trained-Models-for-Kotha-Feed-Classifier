{
 "cells": [
  {
   "cell_type": "code",
   "execution_count": 71,
   "id": "86d6ff3c",
   "metadata": {},
   "outputs": [],
   "source": [
    "import numpy as np\n",
    "import cv2\n",
    "import os\n",
    "import random\n",
    "import matplotlib.pyplot as plt"
   ]
  },
  {
   "cell_type": "code",
   "execution_count": 72,
   "id": "ea46c140",
   "metadata": {},
   "outputs": [
    {
     "name": "stdout",
     "output_type": "stream",
     "text": [
      "C:\\Users\\me\\Desktop\\Kotha\n"
     ]
    }
   ],
   "source": [
    "DIRECTORY = r\"C:\\Users\\me\\Desktop\\Kotha\"\n",
    "CATAGORIES = [\"Art\",\"Food\",\"Nature\",\"Religious\",\"Sports\",\"Travel\"] \n",
    "print(DIRECTORY)"
   ]
  },
  {
   "cell_type": "code",
   "execution_count": 73,
   "id": "0a23d43a",
   "metadata": {},
   "outputs": [],
   "source": [
    "data = []\n",
    "for catagories in CATAGORIES:\n",
    "    folder = os.path.join(DIRECTORY,catagories)\n",
    "    label = CATAGORIES.index(catagories)\n",
    "    for img in os.listdir(folder):\n",
    "        path = os.path.join(folder,img)\n",
    "        \n",
    "        img = cv2.imread(path)\n",
    "        if img is None:\n",
    "            print('Wrong path:', path)\n",
    "        else:\n",
    "            img_arr = cv2.resize(img, dsize=(64,64))\n",
    "        \n",
    "        data.append([img_arr,label])"
   ]
  },
  {
   "cell_type": "code",
   "execution_count": 74,
   "id": "0435476e",
   "metadata": {},
   "outputs": [
    {
     "data": {
      "text/plain": [
       "<matplotlib.image.AxesImage at 0x2a30c033c70>"
      ]
     },
     "execution_count": 74,
     "metadata": {},
     "output_type": "execute_result"
    },
    {
     "data": {
      "image/png": "[encoded data removed]",
      "text/plain": [
       "<Figure size 432x288 with 1 Axes>"
      ]
     },
     "metadata": {
      "needs_background": "light"
     },
     "output_type": "display_data"
    }
   ],
   "source": [
    "random.shuffle(data)\n",
    "plt.imshow(img_arr)"
   ]
  },
  {
   "cell_type": "code",
   "execution_count": 75,
   "id": "d2d85621",
   "metadata": {},
   "outputs": [],
   "source": [
    "x = []\n",
    "y = []\n",
    "for features,label in data:\n",
    "    x.append(features)\n",
    "    y.append(label)"
   ]
  },
  {
   "cell_type": "code",
   "execution_count": 76,
   "id": "8129f99c",
   "metadata": {},
   "outputs": [],
   "source": [
    "x = np.array(x)\n",
    "y = np.array(y)"
   ]
  },
  {
   "cell_type": "code",
   "execution_count": 77,
   "id": "cf61e9b9",
   "metadata": {},
   "outputs": [],
   "source": [
    "x = x/255.0"
   ]
  },
  {
   "cell_type": "code",
   "execution_count": 78,
   "id": "48a9e2e1",
   "metadata": {},
   "outputs": [],
   "source": [
    "input_shape = x.shape[1:]"
   ]
  },
  {
   "cell_type": "code",
   "execution_count": 79,
   "id": "5af40e7c",
   "metadata": {},
   "outputs": [],
   "source": [
    "import tensorflow as tf\n",
    "from tensorflow import keras"
   ]
  },
  {
   "cell_type": "code",
   "execution_count": 80,
   "id": "5fb3e007",
   "metadata": {},
   "outputs": [],
   "source": [
    "from tensorflow.keras.models import Sequential"
   ]
  },
  {
   "cell_type": "code",
   "execution_count": 81,
   "id": "d0ae0077",
   "metadata": {},
   "outputs": [],
   "source": [
    "from tensorflow.keras.layers import Conv2D, MaxPooling2D, Flatten, Dense, Activation,AveragePooling2D"
   ]
  },
  {
   "cell_type": "code",
   "execution_count": 82,
   "id": "dbf9e916",
   "metadata": {},
   "outputs": [],
   "source": [
    "model = keras.Sequential([\n",
    "   keras.layers.AveragePooling2D(6,3, input_shape=input_shape),\n",
    "   keras.layers.Conv2D(64, 3, activation='relu'),\n",
    "   keras.layers.Conv2D(32, 3, activation='relu'),\n",
    "   keras.layers.MaxPool2D(2,2),\n",
    "    \n",
    "   keras.layers.Flatten(),\n",
    "   keras.layers.Dense(128, activation='relu'),\n",
    "   keras.layers.Dense(6, activation='softmax')\n",
    "])"
   ]
  },
  {
   "cell_type": "code",
   "execution_count": 83,
   "id": "f4bc73f4",
   "metadata": {},
   "outputs": [],
   "source": [
    "model.compile(optimizer='adam',\n",
    "              loss=keras.losses.SparseCategoricalCrossentropy(),\n",
    "              metrics=['accuracy'])\n"
   ]
  },
  {
   "cell_type": "code",
   "execution_count": 85,
   "id": "3ca861de",
   "metadata": {},
   "outputs": [
    {
     "name": "stdout",
     "output_type": "stream",
     "text": [
      "Epoch 1/10\n",
      "27/27 [==============================] - 2s 79ms/step - loss: 0.4175 - accuracy: 0.8566 - val_loss: 0.8980 - val_accuracy: 0.6809\n",
      "Epoch 2/10\n",
      "27/27 [==============================] - 2s 63ms/step - loss: 0.3944 - accuracy: 0.8709 - val_loss: 0.9536 - val_accuracy: 0.6809\n",
      "Epoch 3/10\n",
      "27/27 [==============================] - 2s 62ms/step - loss: 0.3491 - accuracy: 0.8803 - val_loss: 0.9878 - val_accuracy: 0.6809\n",
      "Epoch 4/10\n",
      "27/27 [==============================] - 2s 60ms/step - loss: 0.3089 - accuracy: 0.8981 - val_loss: 1.0235 - val_accuracy: 0.7021\n",
      "Epoch 5/10\n",
      "27/27 [==============================] - 2s 65ms/step - loss: 0.2700 - accuracy: 0.9123 - val_loss: 0.9867 - val_accuracy: 0.7340\n",
      "Epoch 6/10\n",
      "27/27 [==============================] - 2s 69ms/step - loss: 0.2633 - accuracy: 0.9135 - val_loss: 0.9587 - val_accuracy: 0.6702\n",
      "Epoch 7/10\n",
      "27/27 [==============================] - 2s 65ms/step - loss: 0.2078 - accuracy: 0.9277 - val_loss: 1.2285 - val_accuracy: 0.6702\n",
      "Epoch 8/10\n",
      "27/27 [==============================] - 2s 64ms/step - loss: 0.2530 - accuracy: 0.9206 - val_loss: 0.9757 - val_accuracy: 0.6489\n",
      "Epoch 9/10\n",
      "27/27 [==============================] - 2s 63ms/step - loss: 0.2039 - accuracy: 0.9372 - val_loss: 1.1747 - val_accuracy: 0.6489\n",
      "Epoch 10/10\n",
      "27/27 [==============================] - 2s 61ms/step - loss: 0.1987 - accuracy: 0.9218 - val_loss: 1.3783 - val_accuracy: 0.6596\n"
     ]
    },
    {
     "data": {
      "text/plain": [
       "<keras.callbacks.History at 0x2a30c3d9700>"
      ]
     },
     "execution_count": 85,
     "metadata": {},
     "output_type": "execute_result"
    }
   ],
   "source": [
    "model.fit(x,y,validation_split=0.2,epochs=5, batch_size=32)"
   ]
  },
  {
   "cell_type": "markdown",
   "id": "aede010b",
   "metadata": {},
   "source": [
    "# "
   ]
  },
  {
   "cell_type": "code",
   "execution_count": 86,
   "id": "88725647",
   "metadata": {},
   "outputs": [
    {
     "name": "stdout",
     "output_type": "stream",
     "text": [
      "INFO:tensorflow:Assets written to: kothaa_saved_model/assets\n"
     ]
    }
   ],
   "source": [
    "model.save('kothaa_saved_model/')"
   ]
  }
 ],
 "metadata": {
  "kernelspec": {
   "display_name": "Python 3 (ipykernel)",
   "language": "python",
   "name": "python3"
  },
  "language_info": {
   "codemirror_mode": {
    "name": "ipython",
    "version": 3
   },
   "file_extension": ".py",
   "mimetype": "text/x-python",
   "name": "python",
   "nbconvert_exporter": "python",
   "pygments_lexer": "ipython3",
   "version": "3.9.6"
  }
 },
 "nbformat": 4,
 "nbformat_minor": 5
}
