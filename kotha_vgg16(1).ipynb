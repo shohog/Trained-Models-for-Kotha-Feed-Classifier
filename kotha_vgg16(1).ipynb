{
 "cells": [
  {
   "cell_type": "code",
   "execution_count": 1,
   "id": "d9d0585f",
   "metadata": {},
   "outputs": [],
   "source": [
    "import tensorflow as tf\n",
    "import os\n",
    "import numpy as np"
   ]
  },
  {
   "cell_type": "code",
   "execution_count": 7,
   "id": "137b4a01",
   "metadata": {},
   "outputs": [],
   "source": [
    "base_dir = r\"C:\\Users\\me\\Desktop\\Kotha\""
   ]
  },
  {
   "cell_type": "code",
   "execution_count": 8,
   "id": "80dfdc29",
   "metadata": {},
   "outputs": [],
   "source": [
    "IMAGE_SIZE = 32\n",
    "BATCH_SIZE = 32"
   ]
  },
  {
   "cell_type": "code",
   "execution_count": 9,
   "id": "d0761067",
   "metadata": {},
   "outputs": [],
   "source": [
    "train_datagen = tf.keras.preprocessing.image.ImageDataGenerator(\n",
    "    rescale = 1./255,\n",
    "    zoom_range = 0.2,\n",
    "    horizontal_flip = True,\n",
    "    validation_split = 0.1\n",
    ")\n",
    "\n",
    "validation_datagen = tf.keras.preprocessing.image.ImageDataGenerator(\n",
    "    rescale = 1./255,\n",
    "    validation_split = 0.1\n",
    ")"
   ]
  },
  {
   "cell_type": "code",
   "execution_count": 10,
   "id": "5fe09719",
   "metadata": {},
   "outputs": [
    {
     "name": "stdout",
     "output_type": "stream",
     "text": [
      "Found 880 images belonging to 6 classes.\n",
      "Found 95 images belonging to 6 classes.\n"
     ]
    }
   ],
   "source": [
    "train_generator = train_datagen.flow_from_directory(\n",
    "    base_dir,\n",
    "    target_size = (IMAGE_SIZE,IMAGE_SIZE),\n",
    "    batch_size = BATCH_SIZE,\n",
    "    subset = 'training'\n",
    ")\n",
    "\n",
    "validation_generator = validation_datagen.flow_from_directory(\n",
    "    base_dir,\n",
    "    target_size = (IMAGE_SIZE,IMAGE_SIZE),\n",
    "    batch_size = BATCH_SIZE,\n",
    "    subset = 'validation'\n",
    ")"
   ]
  },
  {
   "cell_type": "code",
   "execution_count": 11,
   "id": "44d4f0b8",
   "metadata": {},
   "outputs": [],
   "source": [
    "from tensorflow.keras.layers import Input, Flatten, Dense\n",
    "from tensorflow.keras.models import Model\n",
    "from tensorflow.keras.applications.vgg16 import VGG16\n",
    "from tensorflow.keras.models import Sequential\n",
    "from glob import glob"
   ]
  },
  {
   "cell_type": "code",
   "execution_count": 12,
   "id": "5d4d022e",
   "metadata": {},
   "outputs": [
    {
     "data": {
      "text/plain": [
       "<KerasTensor: shape=(None, 1, 1, 512) dtype=float32 (created by layer 'block5_pool')>"
      ]
     },
     "execution_count": 12,
     "metadata": {},
     "output_type": "execute_result"
    }
   ],
   "source": [
    "IMAGE_SIZE = [32,32]\n",
    "vgg = VGG16(input_shape=IMAGE_SIZE+[3], weights = 'imagenet',include_top = False)\n",
    "vgg.output"
   ]
  },
  {
   "cell_type": "code",
   "execution_count": 13,
   "id": "6ea019ec",
   "metadata": {},
   "outputs": [
    {
     "data": {
      "text/plain": [
       "<KerasTensor: shape=(None, 1, 1, 512) dtype=float32 (created by layer 'block5_pool')>"
      ]
     },
     "execution_count": 13,
     "metadata": {},
     "output_type": "execute_result"
    }
   ],
   "source": [
    "IMAGE_SIZE = [32,32]\n",
    "vgg = VGG16(input_shape=IMAGE_SIZE+[3], weights = 'imagenet',include_top = False)\n",
    "vgg.output"
   ]
  },
  {
   "cell_type": "code",
   "execution_count": 14,
   "id": "1c4a69ad",
   "metadata": {},
   "outputs": [
    {
     "name": "stdout",
     "output_type": "stream",
     "text": [
      "6\n"
     ]
    }
   ],
   "source": [
    "folders = glob(r\"C:\\Users\\me\\Desktop\\Kotha\\*\")\n",
    "print(len(folders))"
   ]
  },
  {
   "cell_type": "code",
   "execution_count": 15,
   "id": "515884ce",
   "metadata": {},
   "outputs": [
    {
     "name": "stdout",
     "output_type": "stream",
     "text": [
      "Model: \"model\"\n",
      "_________________________________________________________________\n",
      "Layer (type)                 Output Shape              Param #   \n",
      "=================================================================\n",
      "input_2 (InputLayer)         [(None, 32, 32, 3)]       0         \n",
      "_________________________________________________________________\n",
      "block1_conv1 (Conv2D)        (None, 32, 32, 64)        1792      \n",
      "_________________________________________________________________\n",
      "block1_conv2 (Conv2D)        (None, 32, 32, 64)        36928     \n",
      "_________________________________________________________________\n",
      "block1_pool (MaxPooling2D)   (None, 16, 16, 64)        0         \n",
      "_________________________________________________________________\n",
      "block2_conv1 (Conv2D)        (None, 16, 16, 128)       73856     \n",
      "_________________________________________________________________\n",
      "block2_conv2 (Conv2D)        (None, 16, 16, 128)       147584    \n",
      "_________________________________________________________________\n",
      "block2_pool (MaxPooling2D)   (None, 8, 8, 128)         0         \n",
      "_________________________________________________________________\n",
      "block3_conv1 (Conv2D)        (None, 8, 8, 256)         295168    \n",
      "_________________________________________________________________\n",
      "block3_conv2 (Conv2D)        (None, 8, 8, 256)         590080    \n",
      "_________________________________________________________________\n",
      "block3_conv3 (Conv2D)        (None, 8, 8, 256)         590080    \n",
      "_________________________________________________________________\n",
      "block3_pool (MaxPooling2D)   (None, 4, 4, 256)         0         \n",
      "_________________________________________________________________\n",
      "block4_conv1 (Conv2D)        (None, 4, 4, 512)         1180160   \n",
      "_________________________________________________________________\n",
      "block4_conv2 (Conv2D)        (None, 4, 4, 512)         2359808   \n",
      "_________________________________________________________________\n",
      "block4_conv3 (Conv2D)        (None, 4, 4, 512)         2359808   \n",
      "_________________________________________________________________\n",
      "block4_pool (MaxPooling2D)   (None, 2, 2, 512)         0         \n",
      "_________________________________________________________________\n",
      "block5_conv1 (Conv2D)        (None, 2, 2, 512)         2359808   \n",
      "_________________________________________________________________\n",
      "block5_conv2 (Conv2D)        (None, 2, 2, 512)         2359808   \n",
      "_________________________________________________________________\n",
      "block5_conv3 (Conv2D)        (None, 2, 2, 512)         2359808   \n",
      "_________________________________________________________________\n",
      "block5_pool (MaxPooling2D)   (None, 1, 1, 512)         0         \n",
      "_________________________________________________________________\n",
      "flatten (Flatten)            (None, 512)               0         \n",
      "_________________________________________________________________\n",
      "dense (Dense)                (None, 6)                 3078      \n",
      "=================================================================\n",
      "Total params: 14,717,766\n",
      "Trainable params: 14,717,766\n",
      "Non-trainable params: 0\n",
      "_________________________________________________________________\n"
     ]
    }
   ],
   "source": [
    "x = Flatten()(vgg.output)\n",
    "prediction = Dense(len(folders),activation='softmax')(x)\n",
    "model = Model(inputs=vgg.input,outputs=prediction)\n",
    "model.summary()"
   ]
  },
  {
   "cell_type": "code",
   "execution_count": 16,
   "id": "4c9eb8e9",
   "metadata": {},
   "outputs": [],
   "source": [
    "model.compile(loss='binary_crossentropy',optimizer='adam',metrics=['accuracy'])"
   ]
  },
  {
   "cell_type": "code",
   "execution_count": 20,
   "id": "67b4f902",
   "metadata": {},
   "outputs": [
    {
     "name": "stdout",
     "output_type": "stream",
     "text": [
      "Epoch 1/10\n",
      "28/28 [==============================] - 135s 5s/step - loss: 0.3308 - accuracy: 0.5239 - val_loss: 0.4157 - val_accuracy: 0.4421\n",
      "Epoch 2/10\n",
      "28/28 [==============================] - 147s 5s/step - loss: 0.3234 - accuracy: 0.5432 - val_loss: 0.3172 - val_accuracy: 0.5579\n",
      "Epoch 3/10\n",
      "28/28 [==============================] - 146s 5s/step - loss: 0.3578 - accuracy: 0.5136 - val_loss: 0.3643 - val_accuracy: 0.4526\n",
      "Epoch 4/10\n",
      "28/28 [==============================] - 152s 5s/step - loss: 0.3457 - accuracy: 0.4920 - val_loss: 0.3604 - val_accuracy: 0.4632\n",
      "Epoch 5/10\n",
      "28/28 [==============================] - 206s 7s/step - loss: 0.3211 - accuracy: 0.5239 - val_loss: 0.3508 - val_accuracy: 0.5158\n",
      "Epoch 6/10\n",
      "28/28 [==============================] - 160s 6s/step - loss: 0.3030 - accuracy: 0.5852 - val_loss: 0.3368 - val_accuracy: 0.5368\n",
      "Epoch 7/10\n",
      "28/28 [==============================] - 152s 6s/step - loss: 0.2967 - accuracy: 0.5943 - val_loss: 0.3226 - val_accuracy: 0.5579\n",
      "Epoch 8/10\n",
      "28/28 [==============================] - 172s 6s/step - loss: 0.2925 - accuracy: 0.5989 - val_loss: 0.3665 - val_accuracy: 0.4947\n",
      "Epoch 9/10\n",
      "28/28 [==============================] - 181s 7s/step - loss: 0.2853 - accuracy: 0.6125 - val_loss: 0.3194 - val_accuracy: 0.6105\n",
      "Epoch 10/10\n",
      "28/28 [==============================] - 151s 5s/step - loss: 0.2756 - accuracy: 0.6159 - val_loss: 0.3065 - val_accuracy: 0.5789\n"
     ]
    }
   ],
   "source": [
    "epoch=10\n",
    "history=model.fit(train_generator,\n",
    "                  steps_per_epoch=len(train_generator),\n",
    "                  epochs=epoch,\n",
    "                  validation_data=validation_generator,\n",
    "                  validation_steps = len(validation_generator)\n",
    "                 )\n",
    "                  "
   ]
  },
  {
   "cell_type": "code",
   "execution_count": 18,
   "id": "247abf71",
   "metadata": {},
   "outputs": [
    {
     "name": "stdout",
     "output_type": "stream",
     "text": [
      "INFO:tensorflow:Assets written to: kotha_vgg16_saved_model/assets\n"
     ]
    }
   ],
   "source": [
    "model.save('kotha_vgg16_saved_model/')"
   ]
  },
  {
   "cell_type": "code",
   "execution_count": null,
   "id": "1a9f8182",
   "metadata": {},
   "outputs": [],
   "source": []
  }
 ],
 "metadata": {
  "kernelspec": {
   "display_name": "Python 3 (ipykernel)",
   "language": "python",
   "name": "python3"
  },
  "language_info": {
   "codemirror_mode": {
    "name": "ipython",
    "version": 3
   },
   "file_extension": ".py",
   "mimetype": "text/x-python",
   "name": "python",
   "nbconvert_exporter": "python",
   "pygments_lexer": "ipython3",
   "version": "3.9.6"
  }
 },
 "nbformat": 4,
 "nbformat_minor": 5
}
